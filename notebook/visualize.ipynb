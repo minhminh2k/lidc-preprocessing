{
 "cells": [
  {
   "cell_type": "code",
   "execution_count": 15,
   "metadata": {},
   "outputs": [],
   "source": [
    "import sys\n",
    "sys.path.append('../')"
   ]
  },
  {
   "cell_type": "code",
   "execution_count": 16,
   "metadata": {},
   "outputs": [],
   "source": [
    "import os\n",
    "import numpy as np\n",
    "import matplotlib.animation as animation\n",
    "import matplotlib.pyplot as plt"
   ]
  },
  {
   "cell_type": "code",
   "execution_count": 17,
   "metadata": {},
   "outputs": [],
   "source": [
    "image_folder = '../data/Image/LIDC-IDRI-0018/'\n",
    "mask_folder = '../data/Mask/LIDC-IDRI-0018/'\n",
    "\n",
    "image_file = image_folder.split('/')[-2][-4:] + '_NI001.npy'\n",
    "mask_file = image_folder.split('/')[-2][-4:] + '_MA001.npy'\n",
    "\n",
    "# image_folder = '../data/Clean/Image/LIDC-IDRI-0028/'\n",
    "# mask_folder = '../data/Clean/Mask/LIDC-IDRI-0028/'\n",
    "\n",
    "# image_file = image_folder.split('/')[-2][-4:] + '_CN001.npy'\n",
    "# mask_file = image_folder.split('/')[-2][-4:] + '_CM001.npy'\n"
   ]
  },
  {
   "cell_type": "code",
   "execution_count": 18,
   "metadata": {},
   "outputs": [],
   "source": [
    "img = np.load(os.path.join(image_folder, image_file))\n",
    "mask = np.load(os.path.join(mask_folder, mask_file))"
   ]
  },
  {
   "cell_type": "code",
   "execution_count": 19,
   "metadata": {},
   "outputs": [
    {
     "data": {
      "text/plain": [
       "(128, 128, 128)"
      ]
     },
     "execution_count": 19,
     "metadata": {},
     "output_type": "execute_result"
    }
   ],
   "source": [
    "mask.shape"
   ]
  },
  {
   "cell_type": "code",
   "execution_count": 20,
   "metadata": {},
   "outputs": [
    {
     "name": "stdout",
     "output_type": "stream",
     "text": [
      "-5952500.125\n",
      "-5835637.0\n",
      "-5727026.6875\n",
      "-5591178.5625\n",
      "-5436548.625\n",
      "-5285417.625\n",
      "-5147307.4375\n",
      "-5033998.75\n",
      "-4951167.5625\n",
      "-4902759.6875\n",
      "-4884964.25\n",
      "-4847023.3125\n",
      "-4788969.3125\n",
      "-4738964.0625\n",
      "-4723375.875\n",
      "-4726437.8125\n",
      "-4717800.8125\n",
      "-4720990.8125\n",
      "-4754591.0\n",
      "-4810556.8125\n",
      "-4870343.8125\n",
      "-4930807.625\n",
      "-4998764.625\n",
      "-5074610.8125\n",
      "-5112324.0\n",
      "-5145150.625\n",
      "-5211461.0\n",
      "-5293406.1875\n",
      "-5366023.1875\n",
      "-5426607.6875\n",
      "-5496308.6875\n",
      "-5582288.375\n",
      "-5706048.375\n",
      "-5848253.6875\n",
      "-5987817.625\n",
      "-6113329.6875\n",
      "-6249085.3125\n",
      "-6394124.9375\n",
      "-6567996.8125\n",
      "-6753209.8125\n",
      "-6918598.5\n",
      "-7087287.0\n",
      "-7270407.6875\n",
      "-7458467.5\n",
      "-7645544.4375\n",
      "-7838175.75\n",
      "-8007736.6875\n",
      "-8122252.5625\n",
      "-8227898.4375\n",
      "-8351727.125\n",
      "-8514706.8125\n",
      "-8616370.5625\n",
      "-8670845.1875\n",
      "-8734865.4375\n",
      "-8788653.9375\n",
      "-8869280.5625\n",
      "-8958713.4375\n",
      "-9045569.125\n",
      "-9110897.9375\n",
      "-9146431.4375\n",
      "-9182076.6875\n",
      "-9170850.375\n",
      "-9120632.6875\n",
      "-9068837.6875\n",
      "-9031781.0625\n",
      "-8987121.4375\n",
      "-8938708.1875\n",
      "-8929374.6875\n",
      "-8943555.875\n",
      "-8971155.125\n",
      "-8984959.0625\n",
      "-9010333.3125\n",
      "-9048350.375\n",
      "-9094426.9375\n",
      "-9115861.5\n",
      "-9101219.5625\n",
      "-9099817.0\n",
      "-9076083.4375\n",
      "-9061896.125\n",
      "-9089944.1875\n",
      "-9148731.875\n",
      "-9185001.3125\n",
      "-9200141.625\n",
      "-9208672.3125\n",
      "-9199939.375\n",
      "-9156365.625\n",
      "-9167206.3125\n",
      "-9201283.9375\n",
      "-9198525.5625\n",
      "-9166080.6875\n",
      "-9175973.375\n",
      "-9202429.8125\n",
      "-9238183.125\n",
      "-9234167.9375\n",
      "-9219809.5625\n",
      "-9219023.4375\n",
      "-9262324.4375\n",
      "-9324669.9375\n",
      "-9369464.25\n",
      "-9386104.375\n",
      "-9352374.375\n",
      "-9307421.625\n",
      "-9267045.8125\n",
      "-9266441.375\n",
      "-9279801.8125\n",
      "-9276796.4375\n",
      "-9228465.75\n",
      "-9152876.75\n",
      "-9134909.1875\n",
      "-9016488.8125\n",
      "-8998187.875\n",
      "-8974364.3125\n",
      "-8905003.5\n",
      "-8842071.3125\n",
      "-8771458.4375\n",
      "-8686819.25\n",
      "-8579949.5\n",
      "-8497616.6875\n",
      "-8399719.8125\n",
      "-8289638.875\n",
      "-8270203.875\n",
      "-8268009.3125\n",
      "-8351145.25\n",
      "-8462447.875\n",
      "-8518162.125\n",
      "-8513759.875\n",
      "-8477715.3125\n",
      "0.0\n"
     ]
    },
    {
     "data": {
      "image/png": "[encoded data removed]",
      "text/plain": [
       "<Figure size 640x480 with 1 Axes>"
      ]
     },
     "metadata": {},
     "output_type": "display_data"
    }
   ],
   "source": [
    "length = mask.shape[0]\n",
    "images = []\n",
    "masks = []\n",
    "for i in range(length):\n",
    "    # normalize to -1 to 1\n",
    "    data = img[i]\n",
    "    if data.max() != data.min():\n",
    "        data = (data - data.min()) / (data.max() - data.min())\n",
    "        data = data * 2 - 1\n",
    "    images.append(data)\n",
    "    masks.append(mask[i])\n",
    "    \n",
    "fig = plt.figure()\n",
    "plt.axis(\"off\")\n",
    "ims = [[plt.imshow(np.concatenate((img, np.where(mask > 0, 1, -1)), axis=1), cmap='gray')] for img, mask in zip(images, masks)]\n",
    "ani = animation.ArtistAnimation(fig, ims, interval=250, repeat_delay=1000, blit=True)\n",
    "\n",
    "ani.save(\"../outputs/image.gif\", writer='pillow')"
   ]
  }
 ],
 "metadata": {
  "kernelspec": {
   "display_name": "Python 3",
   "language": "python",
   "name": "python3"
  },
  "language_info": {
   "codemirror_mode": {
    "name": "ipython",
    "version": 3
   },
   "file_extension": ".py",
   "mimetype": "text/x-python",
   "name": "python",
   "nbconvert_exporter": "python",
   "pygments_lexer": "ipython3",
   "version": "3.8.18"
  }
 },
 "nbformat": 4,
 "nbformat_minor": 2
}
